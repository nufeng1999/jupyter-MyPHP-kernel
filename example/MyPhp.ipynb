{
 "cells": [
  {
   "cell_type": "code",
   "execution_count": 3,
   "id": "02e448fb",
   "metadata": {},
   "outputs": [
    {
     "data": {
      "text/html": [
       "<p>中文世界 & Hello, world!</p>"
      ]
     },
     "metadata": {
      "text/html": {}
     },
     "output_type": "display_data"
    }
   ],
   "source": [
    "//%log:0\n",
    "//%overwritefile\n",
    "//%file:src/test.php\n",
    "//%outputtype:text/html\n",
    "<?php echo '<p>中文世界 & Hello, world!</p>'; ?>"
   ]
  }
 ],
 "metadata": {
  "interpreter": {
   "hash": "790d66b9a7d127603100553f17b106d8e2aaf6777ced79107fc93b8d84add8f0"
  },
  "kernelspec": {
   "display_name": "MyPHP",
   "language": "php",
   "name": "myphp"
  },
  "language_info": {
   "codemirror_mode": {
    "name": "ipython",
    "version": 3
   },
   "file_extension": ".php",
   "mimetype": "text/php",
   "name": "PHP",
   "nbconvert_exporter": "PHP",
   "pygments_lexer": "ipython3",
   "version": "3.9.6"
  },
  "widgets": {
   "application/vnd.jupyter.widget-state+json": {
    "state": {},
    "version_major": 2,
    "version_minor": 0
   }
  }
 },
 "nbformat": 4,
 "nbformat_minor": 5
}
