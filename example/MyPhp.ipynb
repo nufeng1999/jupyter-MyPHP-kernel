{
 "cells": [
  {
   "cell_type": "code",
   "execution_count": 2,
   "id": "02e448fb",
   "metadata": {},
   "outputs": [
    {
     "name": "stdout",
     "output_type": "stream",
     "text": [
      "[MyPHPKernel215953] Info:file h:\\Jupyter\\ipynb\\MyPHP\\src/test.php created successfully\n",
      "[MyPHPKernel215953] Info:The process :h:\\Jupyter\\ipynb\\MyPHP\\src/test.php\n",
      "[MyPHPKernel215953] Info:php -f h:\\Jupyter\\ipynb\\MyPHP\\src/test.php \n"
     ]
    },
    {
     "data": {
      "text/html": [
       "<p>中文世界 & Hello, world!</p>"
      ]
     },
     "metadata": {
      "text/html": {}
     },
     "output_type": "display_data"
    },
    {
     "name": "stdout",
     "output_type": "stream",
     "text": [
      "[MyPHPKernel215953] Info:The process end:2816\n"
     ]
    }
   ],
   "source": [
    "//%log:0\n",
    "//%overwritefile\n",
    "//%file:src/test.php\n",
    "//%outputtype:text/html\n",
    "<?php echo '<p>中文世界 & Hello, world!</p>'; ?>"
   ]
  }
 ],
 "metadata": {
  "interpreter": {
   "hash": "790d66b9a7d127603100553f17b106d8e2aaf6777ced79107fc93b8d84add8f0"
  },
  "kernelspec": {
   "display_name": "MyPHP",
   "language": "php",
   "name": "myphp"
  },
  "language_info": {
   "codemirror_mode": {
    "name": "ipython",
    "version": 3
   },
   "file_extension": ".php",
   "mimetype": "text/php",
   "name": "PHP",
   "nbconvert_exporter": "PHP",
   "pygments_lexer": "ipython3",
   "version": "3.9.6"
  },
  "widgets": {
   "application/vnd.jupyter.widget-state+json": {
    "state": {},
    "version_major": 2,
    "version_minor": 0
   }
  }
 },
 "nbformat": 4,
 "nbformat_minor": 5
}
